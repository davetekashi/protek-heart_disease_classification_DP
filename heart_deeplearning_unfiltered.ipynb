{
 "cells": [
  {
   "cell_type": "code",
   "execution_count": 2,
   "id": "b7d8c11b",
   "metadata": {},
   "outputs": [],
   "source": [
    "import pandas as pd\n",
    "import numpy as np\n",
    "import matplotlib.pyplot as plt\n",
    "import seaborn as sns\n",
    "from tensorflow import keras\n",
    "from tensorflow.keras import layers\n",
    "from sklearn.model_selection import train_test_split\n",
    "from sklearn.preprocessing import StandardScaler\n",
    "from sklearn.metrics import classification_report\n",
    "from sklearn.metrics import confusion_matrix, accuracy_score\n",
    "import tensorflow as tf\n",
    "from sklearn.neighbors import KNeighborsClassifier"
   ]
  },
  {
   "cell_type": "code",
   "execution_count": 4,
   "id": "a93318e2",
   "metadata": {},
   "outputs": [],
   "source": [
    "data = pd.read_csv(r'C:\\Users\\hp\\Desktop\\heart.csv')\n",
    "\n",
    "#Filtering data by POSITIVE and NEGATIVE heart disease patient\n",
    "#pos_data = data[data['target']==1]\n",
    "#(pos_data.describe())\n",
    "\n",
    "#pos_data = data[data['target']==0]\n",
    "#pos_data.describe()\n",
    "\n",
    "# calculating the correlation matrix to understand the relationship of features and targets\n",
    "#corr = data.corr()\n",
    "#plt.subplots(figsize=(15,10))\n",
    "#sns.heatmap(corr,xticklabels=corr.columns,yticklabels=corr.columns,annot=True, cmap=sns.diverging_palette\n",
    " #          (220, 20, as_cmap=True))\n",
    "#sns.heatmap(corr, xticklabels=corr.columns, yticklabels=corr.columns, annot=True, cmap=sns.diverging_palette\n",
    " #          (220, 20, as_cmap=True))\n"
   ]
  },
  {
   "cell_type": "code",
   "execution_count": null,
   "id": "9c7d01e0",
   "metadata": {},
   "outputs": [],
   "source": [
    "# Split the data into training and testing\n",
    "x = data.iloc[:, :-1].values\n",
    "y = data.iloc[:, -1].values\n",
    "\n",
    "x_train, x_test, y_train, y_test = train_test_split(x, y, test_size = 0.2, random_state = 1)\n",
    "\n",
    "#preprocessing our data with the standardscaler\n",
    "#sc = StandardScaler()\n",
    "#x_train = sc.fit_transform(x_train)\n",
    "#x_test = sc.transform(x_test)"
   ]
  },
  {
   "cell_type": "code",
   "execution_count": null,
   "id": "19b3293a",
   "metadata": {},
   "outputs": [],
   "source": [
    "#====================MY DEEP LEARNING MODEL=====================================#\n",
    "\n",
    "# Creating a model with 4 dense layers (dense layers contain our neurons)\n",
    "# when a layer is densely connected it means the layers are fully connected to each other\n",
    "# The model uses BatchNormilzation() in order to scale our data in the range: [0, 1]\n",
    "# i'm using the relu(rectified linear unit) optimizer and the sigmoid optimizer for the output layer\n",
    "# the model is a sequential model\n",
    "model = keras.Sequential([\n",
    "    layers.BatchNormalization(),\n",
    "    layers.Dense(1024, activation='relu', input_shape=[x.shape[1]]),\n",
    "    layers.BatchNormalization(),\n",
    "    layers.Dense(512, activation='relu'),\n",
    "    layers.BatchNormalization(),\n",
    "    layers.Dense(512, activation='relu'),\n",
    "    layers.Dense(1, activation='sigmoid'),\n",
    "])\n",
    "\n",
    "#  I Compiled the model using adam optimizer\n",
    "# I Measured the loss with binary_crossentropy another loss funtion i can use is categorical_crossentropy\n",
    "# Set metrics to binary_accuracy, which lets us know how accurate the model is\n",
    "# The accuracy lies on a scale of [0.0, 1.0],\n",
    "# In order to convert this accuracy to percentage, move the decimal point to the right twice (acc*100)\n",
    "model.compile(\n",
    "    optimizer='adam',\n",
    "    loss='binary_crossentropy',\n",
    "    metrics=['binary_accuracy']\n",
    ")\n",
    "\n",
    "# Finally fit the model, training it with X_train and y_train, and validating it with X_test and y_test\n",
    "# I Used 25 data points per epoch (the amount of epochs is the amount of times we feed the model data)\n",
    "# In this case i'm using 3 epochs\n",
    "history = model.fit(\n",
    "    x_train, y_train,\n",
    "    validation_data=(x_test, y_test),\n",
    "    batch_size=25,\n",
    "    epochs=3,\n",
    ")"
   ]
  },
  {
   "cell_type": "code",
   "execution_count": null,
   "id": "6bc17f00",
   "metadata": {},
   "outputs": [],
   "source": [
    "#==========================MY KNN MODEL===============================\n",
    "model1 = KNeighborsClassifier()\n",
    "model1.fit(x_train, y_train)\n",
    "\n",
    "y_pred = model1.predict(x_test)\n",
    "print(classification_report(y_test, y_pred))\n",
    "\n",
    "cm = confusion_matrix(y_test, y_pred)\n",
    "print(cm)\n",
    "accuracy_score(y_test, y_pred)"
   ]
  },
  {
   "cell_type": "code",
   "execution_count": null,
   "id": "70a82817",
   "metadata": {},
   "outputs": [],
   "source": [
    "# watch the val_binary_accuracy in the deep learning model and se how it greatly decreased cos the data\n",
    "# is unfiltered\n",
    "# also see the kn model and see how the accuracy of the model depriciated"
   ]
  }
 ],
 "metadata": {
  "kernelspec": {
   "display_name": "Python 3",
   "language": "python",
   "name": "python3"
  },
  "language_info": {
   "codemirror_mode": {
    "name": "ipython",
    "version": 3
   },
   "file_extension": ".py",
   "mimetype": "text/x-python",
   "name": "python",
   "nbconvert_exporter": "python",
   "pygments_lexer": "ipython3",
   "version": "3.8.5"
  }
 },
 "nbformat": 4,
 "nbformat_minor": 5
}
