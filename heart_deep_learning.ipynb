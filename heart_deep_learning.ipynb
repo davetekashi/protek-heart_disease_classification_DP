{
 "cells": [
  {
   "cell_type": "code",
   "execution_count": 39,
   "id": "81c0d6c8",
   "metadata": {},
   "outputs": [],
   "source": [
    "import pandas as pd\n",
    "import numpy as np\n",
    "import matplotlib.pyplot as plt\n",
    "import seaborn as sns\n",
    "from tensorflow import keras\n",
    "from tensorflow.keras import layers\n",
    "from sklearn.model_selection import train_test_split\n",
    "from sklearn.preprocessing import StandardScaler\n",
    "from sklearn.metrics import classification_report\n",
    "from sklearn.metrics import confusion_matrix, accuracy_score\n",
    "import tensorflow as tf\n",
    "from sklearn.neighbors import KNeighborsClassifier"
   ]
  },
  {
   "cell_type": "code",
   "execution_count": 50,
   "id": "5a0feebb",
   "metadata": {},
   "outputs": [],
   "source": [
    "data = pd.read_csv(r'C:\\Users\\hp\\Desktop\\heart.csv')\n",
    "\n",
    "#Filtering data by POSITIVE and NEGATIVE heart disease patient\n",
    "#pos_data = data[data['target']==1]\n",
    "#(pos_data.describe())\n",
    "\n",
    "#pos_data = data[data['target']==0]\n",
    "#pos_data.describe()\n",
    "\n",
    "# calculating the correlation matrix to understand the relationship of features and targets\n",
    "#corr = data.corr()\n",
    "#plt.subplots(figsize=(15,10))\n",
    "#sns.heatmap(corr,xticklabels=corr.columns,yticklabels=corr.columns,annot=True, cmap=sns.diverging_palette\n",
    " #          (220, 20, as_cmap=True))\n",
    "#sns.heatmap(corr, xticklabels=corr.columns, yticklabels=corr.columns, annot=True, cmap=sns.diverging_palette\n",
    " #          (220, 20, as_cmap=True))\n"
   ]
  },
  {
   "cell_type": "code",
   "execution_count": 48,
   "id": "5dd0b4c7",
   "metadata": {},
   "outputs": [],
   "source": [
    "# Split the data into training and testing\n",
    "x = data.iloc[:, :-1].values\n",
    "y = data.iloc[:, -1].values\n",
    "\n",
    "x_train, x_test, y_train, y_test = train_test_split(x, y, test_size = 0.2, random_state = 1)\n",
    "\n",
    "# preprocessing our data with the standardscaler\n",
    "sc = StandardScaler()\n",
    "x_train = sc.fit_transform(x_train)\n",
    "x_test = sc.transform(x_test)"
   ]
  },
  {
   "cell_type": "code",
   "execution_count": 49,
   "id": "062d904b",
   "metadata": {},
   "outputs": [
    {
     "name": "stdout",
     "output_type": "stream",
     "text": [
      "Epoch 1/3\n",
      "33/33 [==============================] - 15s 75ms/step - loss: 0.4839 - binary_accuracy: 0.8256 - val_loss: 0.4634 - val_binary_accuracy: 0.8585\n",
      "Epoch 2/3\n",
      "33/33 [==============================] - 1s 45ms/step - loss: 0.1911 - binary_accuracy: 0.9183 - val_loss: 0.4075 - val_binary_accuracy: 0.8488\n",
      "Epoch 3/3\n",
      "33/33 [==============================] - 2s 46ms/step - loss: 0.1622 - binary_accuracy: 0.9293 - val_loss: 0.4120 - val_binary_accuracy: 0.8244\n"
     ]
    }
   ],
   "source": [
    "#====================MY DEEP LEARNING MODEL=====================================#\n",
    "\n",
    "# Creating a model with 4 dense layers (dense layers contain our neurons)\n",
    "# when a layer is densely connected it means the layers are fully connected to each other\n",
    "# The model uses BatchNormilzation() in order to scale our data in the range: [0, 1]\n",
    "# i'm using the relu(rectified linear unit) optimizer and the sigmoid optimizer for the output layer\n",
    "# the model is a sequential model\n",
    "model = keras.Sequential([\n",
    "    layers.BatchNormalization(),\n",
    "    layers.Dense(1024, activation='relu', input_shape=[x.shape[1]]),\n",
    "    layers.BatchNormalization(),\n",
    "    layers.Dense(512, activation='relu'),\n",
    "    layers.BatchNormalization(),\n",
    "    layers.Dense(512, activation='relu'),\n",
    "    layers.Dense(1, activation='sigmoid'),\n",
    "])\n",
    "\n",
    "#  I Compiled the model using adam optimizer\n",
    "# I Measured the loss with binary_crossentropy another loss funtion i can use is categorical_crossentropy\n",
    "# Set metrics to binary_accuracy, which lets us know how accurate the model is\n",
    "# The accuracy lies on a scale of [0.0, 1.0],\n",
    "# In order to convert this accuracy to percentage, move the decimal point to the right twice (acc*100)\n",
    "model.compile(\n",
    "    optimizer='adam',\n",
    "    loss='binary_crossentropy',\n",
    "    metrics=['binary_accuracy']\n",
    ")\n",
    "\n",
    "# Finally fit the model, training it with X_train and y_train, and validating it with X_test and y_test\n",
    "# I Used 25 data points per epoch (the amount of epochs is the amount of times we feed the model data)\n",
    "# In this case i'm using 3 epochs\n",
    "history = model.fit(\n",
    "    x_train, y_train,\n",
    "    validation_data=(x_test, y_test),\n",
    "    batch_size=25,\n",
    "    epochs=3,\n",
    ")\n"
   ]
  },
  {
   "cell_type": "code",
   "execution_count": 51,
   "id": "62dfda27",
   "metadata": {},
   "outputs": [
    {
     "name": "stdout",
     "output_type": "stream",
     "text": [
      "              precision    recall  f1-score   support\n",
      "\n",
      "           0       0.88      0.80      0.84       109\n",
      "           1       0.79      0.88      0.83        96\n",
      "\n",
      "    accuracy                           0.83       205\n",
      "   macro avg       0.84      0.84      0.83       205\n",
      "weighted avg       0.84      0.83      0.83       205\n",
      "\n",
      "[[87 22]\n",
      " [12 84]]\n"
     ]
    },
    {
     "data": {
      "text/plain": [
       "0.8341463414634146"
      ]
     },
     "execution_count": 51,
     "metadata": {},
     "output_type": "execute_result"
    }
   ],
   "source": [
    "#==========================MY KNN MODEL===============================\n",
    "model1 = KNeighborsClassifier()\n",
    "model1.fit(x_train, y_train)\n",
    "\n",
    "y_pred = model1.predict(x_test)\n",
    "print(classification_report(y_test, y_pred))\n",
    "\n",
    "cm = confusion_matrix(y_test, y_pred)\n",
    "print(cm)\n",
    "accuracy_score(y_test, y_pred)"
   ]
  },
  {
   "cell_type": "code",
   "execution_count": null,
   "id": "7da2ef00",
   "metadata": {},
   "outputs": [],
   "source": [
    "# basically in the documentation you'll explain what activation functions are and the different types\n",
    "#then you'll also explain optimizers and the different types\n",
    "# explain that you used standardscaler for feature scaling\n",
    "# standardscaler is important cos raw data has a huge difference between them that can affect the model\n",
    "# so best thing is scaling the data before processing it\n",
    "#in the second code i'll post i'll run the code without using the preprocessor to see how the accuracy\n",
    "# of both models depriciated\n",
    "# i'm sure you can explain confusion matrix and the other performance metrics\n",
    "# for the deep learning model just explain the key features like optimizers, activation functions\n",
    "# epochs, batch_size and the loss function\n",
    "# loss function shows the distance between the current output and the expected output\n",
    "# methodology just say you used a deep learning model first to train the model\n",
    "# you'll also explain tensorflow and keras thats wah you used to construct the DLM\n",
    "# the neural network is 4 layers that are densely connected(fully connected)\n",
    "# note that the activation function you use for the output layer cant be same with other layers\n",
    "# in this case i used sigmoid for the output layer\n",
    "# you can also uyse softmax for the output layer\n",
    "#if you have any question just ask me"
   ]
  }
 ],
 "metadata": {
  "kernelspec": {
   "display_name": "Python 3",
   "language": "python",
   "name": "python3"
  },
  "language_info": {
   "codemirror_mode": {
    "name": "ipython",
    "version": 3
   },
   "file_extension": ".py",
   "mimetype": "text/x-python",
   "name": "python",
   "nbconvert_exporter": "python",
   "pygments_lexer": "ipython3",
   "version": "3.8.5"
  }
 },
 "nbformat": 4,
 "nbformat_minor": 5
}
